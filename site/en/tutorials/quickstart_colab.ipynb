{
  "cells": [
    {
      "cell_type": "markdown",
      "metadata": {
        "id": "view-in-github",
        "colab_type": "text"
      },
      "source": [
        "<a href=\"https://colab.research.google.com/github/aniketshrivastav966/Google-colab/blob/main/site/en/tutorials/quickstart_colab.ipynb\" target=\"_parent\"><img src=\"https://colab.research.google.com/assets/colab-badge.svg\" alt=\"Open In Colab\"/></a>"
      ]
    },
    {
      "cell_type": "markdown",
      "metadata": {
        "id": "Tce3stUlHN0L"
      },
      "source": [
        "##### Copyright 2024 Google LLC."
      ]
    },
    {
      "cell_type": "code",
      "execution_count": 1,
      "metadata": {
        "cellView": "form",
        "id": "tuOe1ymfHZPu"
      },
      "outputs": [],
      "source": [
        "#@title Licensed under the Apache License, Version 2.0 (the \"License\");\n",
        "# you may not use this file except in compliance with the License.\n",
        "# You may obtain a copy of the License at\n",
        "#\n",
        "# https://www.apache.org/licenses/LICENSE-2.0\n",
        "#\n",
        "# Unless required by applicable law or agreed to in writing, software\n",
        "# distributed under the License is distributed on an \"AS IS\" BASIS,\n",
        "# WITHOUT WARRANTIES OR CONDITIONS OF ANY KIND, either express or implied.\n",
        "# See the License for the specific language governing permissions and\n",
        "# limitations under the License."
      ]
    },
    {
      "cell_type": "markdown",
      "metadata": {
        "id": "-QhPWE1lwZHH"
      },
      "source": [
        "# Gemini API Python quickstart"
      ]
    },
    {
      "cell_type": "markdown",
      "metadata": {
        "id": "fa7c47ae6451"
      },
      "source": [
        "<table class=\"tfo-notebook-buttons\" align=\"left\">\n",
        "  <td>\n",
        "    <a target=\"_blank\" href=\"https://ai.google.dev/tutorials/quickstart_colab\"><img src=\"https://ai.google.dev/static/site-assets/images/docs/notebook-site-button.png\" height=\"32\" width=\"32\" />View on Google AI</a>\n",
        "  </td>\n",
        "  <td>\n",
        "    <a target=\"_blank\" href=\"https://colab.research.google.com/github/google/generative-ai-docs/blob/main/site/en/tutorials/quickstart_colab.ipynb\"><img src=\"https://www.tensorflow.org/images/colab_logo_32px.png\" />Run in Google Colab</a>\n",
        "  </td>\n",
        "  <td>\n",
        "    <a target=\"_blank\" href=\"https://github.com/google/generative-ai-docs/blob/main/site/en/tutorials/quickstart_colab.ipynb\"><img src=\"https://www.tensorflow.org/images/GitHub-Mark-32px.png\" />View source on GitHub</a>\n",
        "  </td>\n",
        "</table>"
      ]
    },
    {
      "cell_type": "markdown",
      "metadata": {
        "id": "db29b8d4247e"
      },
      "source": [
        "This tutorial shows you how to get started with the Gemini API using the Python SDK."
      ]
    },
    {
      "cell_type": "markdown",
      "metadata": {
        "id": "NNNg43Ymw54e"
      },
      "source": [
        "## Prerequisites\n",
        "\n",
        "You can run this tutorial in Google Colab, which doesn't require additional environment configuration.\n",
        "\n",
        "Alternatively, to complete this quickstart locally, see the Python guidance in [Get started with the Gemini API](https://ai.google.dev/tutorials/quickstart)."
      ]
    },
    {
      "cell_type": "markdown",
      "metadata": {
        "id": "kHkHARdb1ZID"
      },
      "source": [
        "## Install the SDK\n",
        "\n",
        "The Python SDK for the Gemini API is contained in the [`google-generativeai`](https://pypi.org/project/google-generativeai/) package. Install the dependency using pip:"
      ]
    },
    {
      "cell_type": "code",
      "execution_count": 2,
      "metadata": {
        "id": "J6Pd9SFJ1yVi"
      },
      "outputs": [],
      "source": [
        "!pip install -q -U google-generativeai"
      ]
    },
    {
      "cell_type": "markdown",
      "metadata": {
        "id": "EeMCtmx9ykyx"
      },
      "source": [
        "## Set up your API key\n",
        "\n",
        "To use the Gemini API, you'll need an API key. If you don't already have one, create a key in Google AI Studio.\n",
        "\n",
        "<a class=\"button\" href=\"https://aistudio.google.com/app/apikey\" target=\"_blank\" rel=\"noopener noreferrer\">Get an API key</a>\n",
        "\n",
        "In Colab, add the key to the secrets manager under the \"🔑\" in the left panel. Give it the name `GOOGLE_API_KEY`. Then pass the key to the SDK:"
      ]
    },
    {
      "cell_type": "code",
      "execution_count": 6,
      "metadata": {
        "id": "HTiaTu6O1LRC"
      },
      "outputs": [],
      "source": [
        "# Import the Python SDK\n",
        "import google.generativeai as genai\n",
        "# Used to securely store your API key\n",
        "from google.colab import userdata\n",
        "\n",
        "GOOGLE_API_KEY=userdata.get('GOOGLE_API_KEY')\n",
        "genai.configure(api_key=GOOGLE_API_KEY)"
      ]
    },
    {
      "cell_type": "markdown",
      "metadata": {
        "id": "CZPYk29o2No0"
      },
      "source": [
        "## Initialize the Generative Model\n",
        "\n",
        "Before you can make any API calls, you need to initialize the Generative Model."
      ]
    },
    {
      "cell_type": "code",
      "execution_count": 7,
      "metadata": {
        "id": "s-JqXcDe2hZ_"
      },
      "outputs": [],
      "source": [
        "model = genai.GenerativeModel('gemini-pro')"
      ]
    },
    {
      "cell_type": "markdown",
      "metadata": {
        "id": "nXxypzJH4MUl"
      },
      "source": [
        "## Generate text"
      ]
    },
    {
      "cell_type": "code",
      "execution_count": 9,
      "metadata": {
        "id": "j51mcrLD4Y2W",
        "outputId": "23e364c6-ad4e-407a-d123-e1dcbbc8576b",
        "colab": {
          "base_uri": "https://localhost:8080/",
          "height": 729
        }
      },
      "outputs": [
        {
          "output_type": "stream",
          "name": "stdout",
          "text": [
            "**Phase 1: Introduction to Data Structures and Algorithms**\n",
            "\n",
            "* Understand the concepts of arrays, linked lists, stacks, queues, and trees\n",
            "* Learn basic algorithms like sorting, searching, and recursion\n",
            "* Develop problem-solving skills through practice\n",
            "\n",
            "**Phase 2: Advanced Data Structures**\n",
            "\n",
            "* Explore more complex data structures such as graphs, hash tables, and tries\n",
            "* Implement efficient algorithms for operations on these structures\n",
            "* Understand the time and space complexities of different algorithms\n",
            "\n",
            "**Phase 3: Algorithm Design and Analysis**\n",
            "\n",
            "* Study algorithm design techniques like greedy, dynamic programming, and divide and conquer\n",
            "* Learn about algorithm analysis and how to determine the efficiency and limitations of algorithms\n",
            "* Develop an understanding of computational complexity theory\n",
            "\n",
            "**Phase 4: Graph Algorithms**\n",
            "\n",
            "* Explore graph representation methods (adjacency list, adjacency matrix)\n",
            "* Implement algorithms for traversing graphs (BFS, DFS)\n",
            "* Study graph-based algorithms like topological sort, finding connected components, and Dijkstra's algorithm\n",
            "\n",
            "**Phase 5: Dynamic Programming**\n",
            "\n",
            "* Understand the principles of dynamic programming\n",
            "* Apply dynamic programming to solve classic problems like Fibonacci, Longest Common Subsequence, and Knapsack\n",
            "* Analyze the time and space complexities of dynamic programming algorithms\n",
            "\n",
            "**Phase 6: Advanced Techniques**\n",
            "\n",
            "* Dive into topics like suffix trees, string matching algorithms, and geometric algorithms\n",
            "* Explore advanced concepts like bit manipulation, data compression, and randomization\n",
            "* Develop a specialized understanding of specific problem domains, such as algorithm optimization or data visualization\n",
            "\n",
            "**Phase 7: Practice and Application**\n",
            "\n",
            "* Consistently practice problem-solving\n",
            "* Participate in coding contests and online challenges\n",
            "* Apply data structures and algorithms to real-world projects\n"
          ]
        }
      ],
      "source": [
        "response = model.generate_content(\"DSA Road map\")\n",
        "print(response.text)"
      ]
    },
    {
      "cell_type": "code",
      "source": [
        "response = model.generate_content(\"Can u suggest me language of DSA\")\n",
        "print(response.text)"
      ],
      "metadata": {
        "id": "YtdpqtOFUjXW",
        "outputId": "dfd60ff7-c187-4607-e8cf-d348bdf12b1e",
        "colab": {
          "base_uri": "https://localhost:8080/",
          "height": 555
        }
      },
      "execution_count": 10,
      "outputs": [
        {
          "output_type": "stream",
          "name": "stdout",
          "text": [
            "**Popular High-Level Languages:**\n",
            "\n",
            "* **Java:** Object-oriented, popular for enterprise applications\n",
            "* **Python:** Easy to learn, versatile for data science and machine learning\n",
            "* **C++:** High performance, used in game development and operating systems\n",
            "* **JavaScript:** Dynamically typed, widely used in web development\n",
            "\n",
            "**Intermediate-Level Languages:**\n",
            "\n",
            "* **C:** General-purpose language, efficient in memory management\n",
            "* **Go:** Concurrent, scalable language for cloud computing and distributed systems\n",
            "* **Swift:** Modern and expressive language designed for iOS and macOS development\n",
            "\n",
            "**Low-Level Languages:**\n",
            "\n",
            "* **Assembly Language:** Specific to machine architecture, provides fine-grained control\n",
            "* **Rust:** Memory-safe, concurrent, ideal for systems programming\n",
            "\n",
            "**Specialized Languages:**\n",
            "\n",
            "* **Scala:** Hybrid language that combines object-oriented and functional programming\n",
            "* **Kotlin:** Modern language for Android development, interoperable with Java\n",
            "* **Haskell:** Purely functional language, used in advanced mathematics and computer science research\n",
            "\n",
            "**Factors to Consider When Choosing a Language:**\n",
            "\n",
            "* **Purpose:** What specific problems or applications will you be solving with DSA?\n",
            "* **Learning Curve:** How quickly do you need to become proficient in the language?\n",
            "* **Job Market:** What languages are in high demand in your industry?\n",
            "* **Learning Resources:** Is there ample documentation, tutorials, and online communities for the language?\n",
            "* **Performance:** Do you need high performance or memory efficiency?\n"
          ]
        }
      ]
    },
    {
      "cell_type": "markdown",
      "metadata": {
        "id": "zUUAQS9u4biH"
      },
      "source": [
        "## What's next\n",
        "\n",
        "To learn more about working with the Gemini API, see the [Python tutorial](https://ai.google.dev/tutorials/python_quickstart).\n",
        "\n",
        "If you're new to generative AI models, you might want to look at the\n",
        "[concepts guide](https://ai.google.dev/docs/concepts) and the\n",
        "[Gemini API overview](https://ai.google.dev/docs/gemini_api_overview)."
      ]
    }
  ],
  "metadata": {
    "colab": {
      "name": "quickstart_colab.ipynb",
      "provenance": [],
      "include_colab_link": true
    },
    "kernelspec": {
      "display_name": "Python 3",
      "name": "python3"
    }
  },
  "nbformat": 4,
  "nbformat_minor": 0
}